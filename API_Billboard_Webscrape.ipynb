{
 "cells": [
  {
   "cell_type": "markdown",
   "id": "73c6b240",
   "metadata": {},
   "source": [
    "## Analysis of top 100 Billboard Songs via Spotify API\n",
    "- Feature Analysis & Engineering\n",
    "- Dynamic/Interactive Visualization\n",
    "- Data Modeling"
   ]
  },
  {
   "cell_type": "markdown",
   "id": "b50de447",
   "metadata": {},
   "source": [
    "![alt text](https://upload.wikimedia.org/wikipedia/commons/9/95/Billboard_logo.svg) ![alt text](https://upload.wikimedia.org/wikipedia/commons/2/26/Spotify_logo_with_text.svg) "
   ]
  },
  {
   "cell_type": "markdown",
   "id": "94d8c160",
   "metadata": {},
   "source": [
    "### Recieve token --"
   ]
  },
  {
   "cell_type": "code",
   "execution_count": 1,
   "id": "ef00d7d3",
   "metadata": {},
   "outputs": [],
   "source": [
    "import subprocess\n",
    "import sys\n",
    "\n",
    "def get_token()-> str:\n",
    "\n",
    "    command = f'curl -X POST \"https://accounts.spotify.com/api/token\" \\\n",
    "          -H \"Content-Type: application/x-www-form-urlencoded\" \\\n",
    "          -d \"grant_type=client_credentials&client_id=c92544725ea24f009b2abc7fa2c38bdb&client_secret=2a14acc2799947f2be63138957c1b31f\"'  # the terminal command you want to run\n",
    "\n",
    "    output = subprocess.check_output(command, shell=True, stderr=subprocess.STDOUT)\n",
    "\n",
    "    length = None\n",
    "    while length != 116:\n",
    "        output = subprocess.check_output(command, shell=True, stderr=subprocess.STDOUT)\n",
    "        code = str(output[333:-42])[3:]\n",
    "        token = code.replace(\"'\", '')\n",
    "        length = len(token)\n",
    "    return token"
   ]
  },
  {
   "cell_type": "code",
   "execution_count": null,
   "id": "7bbc43b6",
   "metadata": {},
   "outputs": [],
   "source": [
    "token = get_token()\n",
    "token"
   ]
  },
  {
   "cell_type": "markdown",
   "id": "62956901",
   "metadata": {},
   "source": [
    "### ARTISTS ANALYSIS - (SAVE FOR LATER) (SKIP)"
   ]
  },
  {
   "cell_type": "code",
   "execution_count": 290,
   "id": "fdaccbff",
   "metadata": {
    "scrolled": true
   },
   "outputs": [
    {
     "name": "stdout",
     "output_type": "stream",
     "text": [
      "Data saved to CSV file.\n"
     ]
    }
   ],
   "source": [
    "# import requests\n",
    "# import csv\n",
    "\n",
    "# # Spotify API endpoint for Tame Impala\n",
    "# url = 'https://api.spotify.com/v1/artists/19Fi1Rj7kk8kyiwxpXy3yM'\n",
    "\n",
    "# # Spotify authentication token\n",
    "# token = f'Bearer  {token}'\n",
    "# # Set up headers with authorization token\n",
    "# headers = {\n",
    "#     'Authorization': token\n",
    "# }\n",
    "\n",
    "# # Send GET request to API endpoint with headers\n",
    "# response = requests.get(url, headers=headers)\n",
    "\n",
    "# # Check if response was successful\n",
    "# if response.status_code == 200:\n",
    "#     # Load response data into dictionary\n",
    "#     data_dict = response.json()\n",
    "\n",
    "#     # Extract relevant data from dictionary\n",
    "#     name = data_dict['name']\n",
    "#     followers = data_dict['followers']['total']\n",
    "#     popularity = data_dict['popularity']\n",
    "#     genres = ', '.join(data_dict['genres'])\n",
    "\n",
    "#     # Write data to CSV file\n",
    "#     with open('tame_impala.csv', 'w', newline='') as csvfile:\n",
    "#         writer = csv.writer(csvfile)\n",
    "#         writer.writerow(['Name', 'Followers', 'Popularity', 'Genres'])\n",
    "#         writer.writerow([name, followers, popularity, genres])\n",
    "\n",
    "#     print('Data saved to CSV file.')\n",
    "# else:\n",
    "#     print('Failed to retrieve data from API.')\n"
   ]
  },
  {
   "cell_type": "code",
   "execution_count": 287,
   "id": "e0ecb9f7",
   "metadata": {},
   "outputs": [],
   "source": [
    "# import spotipy\n",
    "# from spotipy.oauth2 import SpotifyClientCredentials\n",
    "\n",
    "# client_id = \"c92544725ea24f009b2abc7fa2c38bdb\"\n",
    "# client_secret = \"2a14acc2799947f2be63138957c1b31f\"\n",
    "\n",
    "# client_credentials_manager = SpotifyClientCredentials(client_id=client_id, client_secret=client_secret)\n",
    "# spotify = spotipy.Spotify(client_credentials_manager=client_credentials_manager)\n",
    "\n",
    "# artist_name = \"Chris Brown\"\n",
    "# results = spotify.search(q=artist_name, type='artist')\n",
    "# artist_id = results['artists']['items'][0]['id']"
   ]
  },
  {
   "cell_type": "code",
   "execution_count": 292,
   "id": "ad3d6e3b",
   "metadata": {},
   "outputs": [],
   "source": [
    "## Do something here with top 100 artists --> "
   ]
  },
  {
   "cell_type": "markdown",
   "id": "37985b52",
   "metadata": {},
   "source": [
    "### Songs\n",
    "- SCRAPE TOP 100 SONGS + ARTISTS from BILLBOARD 100: https://www.billboard.com/charts/hot-100/"
   ]
  },
  {
   "cell_type": "code",
   "execution_count": 1,
   "id": "bc184333",
   "metadata": {
    "scrolled": true
   },
   "outputs": [
    {
     "data": {
      "text/plain": [
       "200"
      ]
     },
     "execution_count": 1,
     "metadata": {},
     "output_type": "execute_result"
    }
   ],
   "source": [
    "from bs4 import BeautifulSoup\n",
    "import requests\n",
    "response = requests.get('https://www.billboard.com/charts/hot-100/')\n",
    "response.status_code"
   ]
  },
  {
   "cell_type": "code",
   "execution_count": 4,
   "id": "e0400190",
   "metadata": {},
   "outputs": [],
   "source": [
    "soup = BeautifulSoup(response.content, 'html.parser')\n",
    "#soup.prettify()\n",
    "chart_rows = soup.find_all('li')\n",
    "li = soup.find_all('li')\n",
    "#lis = soup.find_all('li', {'class': 'o-chart-results-list__item // lrv-u-flex-grow-1 lrv-u-flex lrv-u-flex-direction-column lrv-u-justify-content-center lrv-u-border-b-1 u-border-b-0@mobile-max lrv-u-border-color-grey-light lrv-u-padding-l-1@mobile-max'})\n"
   ]
  },
  {
   "cell_type": "code",
   "execution_count": 5,
   "id": "83962eb3",
   "metadata": {},
   "outputs": [],
   "source": [
    "h3s = [h3 for l in li for h3 in l.find_all('h3', {'id' : \"title-of-a-story\"})]\n",
    "top100 = []\n",
    "cnt=0\n",
    "for h3 in h3s:\n",
    "    cnt+=1\n",
    "    top100.append(h3.text.strip())\n",
    "top100 = top100[::2]"
   ]
  },
  {
   "cell_type": "code",
   "execution_count": 6,
   "id": "62718478",
   "metadata": {},
   "outputs": [],
   "source": [
    "#Scrape top 100 Artists\n",
    "artists_ls = []\n",
    "for val in chart_rows:\n",
    "    # Find the span element with the given class and print its text\n",
    "    span_elem = val.find('span', {'class': \"c-label a-no-trucate a-font-primary-s lrv-u-font-size-14@mobile-max u-line-height-normal@mobile-max u-letter-spacing-0021 lrv-u-display-block a-truncate-ellipsis-2line u-max-width-330 u-max-width-230@tablet-only u-font-size-20@tablet\"})\n",
    "    if span_elem:\n",
    "        artists_ls.append(span_elem.text.strip())\n",
    "        \n",
    "for val in chart_rows:\n",
    "    # Find the span element with the given class and print its text\n",
    "    span_elem = val.find('span', {'class': \"c-label a-no-trucate a-font-primary-s lrv-u-font-size-14@mobile-max u-line-height-normal@mobile-max u-letter-spacing-0021 lrv-u-display-block a-truncate-ellipsis-2line u-max-width-330 u-max-width-230@tablet-only\"})\n",
    "    if span_elem:\n",
    "        artists_ls.append(span_elem.text.strip())\n",
    "        \n",
    "artists_ls = artists_ls[::2]"
   ]
  },
  {
   "cell_type": "code",
   "execution_count": 7,
   "id": "a1756795",
   "metadata": {},
   "outputs": [
    {
     "data": {
      "text/plain": [
       "(100, 100)"
      ]
     },
     "execution_count": 7,
     "metadata": {},
     "output_type": "execute_result"
    }
   ],
   "source": [
    "len(top100), len(artists_ls)"
   ]
  },
  {
   "cell_type": "code",
   "execution_count": 9,
   "id": "07a9084e",
   "metadata": {},
   "outputs": [
    {
     "name": "stdout",
     "output_type": "stream",
     "text": [
      "Requirement already satisfied: spotipy in /Users/Mirzafamily/opt/anaconda3/lib/python3.9/site-packages (2.23.0)\n",
      "Requirement already satisfied: urllib3>=1.26.0 in /Users/Mirzafamily/opt/anaconda3/lib/python3.9/site-packages (from spotipy) (1.26.7)\n",
      "Requirement already satisfied: six>=1.15.0 in /Users/Mirzafamily/opt/anaconda3/lib/python3.9/site-packages (from spotipy) (1.16.0)\n",
      "Requirement already satisfied: redis>=3.5.3 in /Users/Mirzafamily/opt/anaconda3/lib/python3.9/site-packages (from spotipy) (4.5.4)\n",
      "Requirement already satisfied: requests>=2.25.0 in /Users/Mirzafamily/opt/anaconda3/lib/python3.9/site-packages (from spotipy) (2.26.0)\n",
      "Requirement already satisfied: async-timeout>=4.0.2 in /Users/Mirzafamily/opt/anaconda3/lib/python3.9/site-packages (from redis>=3.5.3->spotipy) (4.0.2)\n",
      "Requirement already satisfied: idna<4,>=2.5 in /Users/Mirzafamily/opt/anaconda3/lib/python3.9/site-packages (from requests>=2.25.0->spotipy) (3.2)\n",
      "Requirement already satisfied: certifi>=2017.4.17 in /Users/Mirzafamily/opt/anaconda3/lib/python3.9/site-packages (from requests>=2.25.0->spotipy) (2021.10.8)\n",
      "Requirement already satisfied: charset-normalizer~=2.0.0 in /Users/Mirzafamily/opt/anaconda3/lib/python3.9/site-packages (from requests>=2.25.0->spotipy) (2.0.4)\n"
     ]
    }
   ],
   "source": [
    "! pip install spotipy"
   ]
  },
  {
   "cell_type": "code",
   "execution_count": 8,
   "id": "f444a1c9",
   "metadata": {},
   "outputs": [],
   "source": [
    "#GET SPOTIFY ID FOR SONGS TO FEED API\n",
    "import spotipy\n",
    "from spotipy.oauth2 import SpotifyClientCredentials\n",
    "\n",
    "client_id = \"31c8b9cbb5c14ae2912c988dfdf59d82\"\n",
    "client_secret = \"f62b5c5c27644a088e27a3f30034e65c\"\n",
    "\n",
    "client_credentials_manager = SpotifyClientCredentials(client_id=client_id, client_secret=client_secret)\n",
    "spotify = spotipy.Spotify(client_credentials_manager=client_credentials_manager)\n",
    "\n",
    "track_ids = []\n",
    "\n",
    "for idx in range(len(top100)):\n",
    "    query = top100[idx]\n",
    "    results = spotify.search(q=query, type='track')\n",
    "\n",
    "    track_id = results['tracks']['items'][0]['id']\n",
    "    track_ids.append(track_id)"
   ]
  },
  {
   "cell_type": "code",
   "execution_count": 9,
   "id": "435117fe",
   "metadata": {},
   "outputs": [
    {
     "data": {
      "text/plain": [
       "100"
      ]
     },
     "execution_count": 9,
     "metadata": {},
     "output_type": "execute_result"
    }
   ],
   "source": [
    "len(track_ids)"
   ]
  },
  {
   "cell_type": "code",
   "execution_count": 2,
   "id": "a446096a",
   "metadata": {},
   "outputs": [
    {
     "ename": "NameError",
     "evalue": "name 'track_ids' is not defined",
     "output_type": "error",
     "traceback": [
      "\u001b[0;31m---------------------------------------------------------------------------\u001b[0m",
      "\u001b[0;31mNameError\u001b[0m                                 Traceback (most recent call last)",
      "\u001b[0;32m/var/folders/rx/s31g8pg13hbc_gm_qvcw8ht00000gn/T/ipykernel_10295/1049936176.py\u001b[0m in \u001b[0;36m<module>\u001b[0;34m\u001b[0m\n\u001b[0;32m----> 1\u001b[0;31m \u001b[0mtrack_ids\u001b[0m\u001b[0;34m.\u001b[0m\u001b[0mhead\u001b[0m\u001b[0;34m(\u001b[0m\u001b[0;34m)\u001b[0m\u001b[0;34m\u001b[0m\u001b[0;34m\u001b[0m\u001b[0m\n\u001b[0m",
      "\u001b[0;31mNameError\u001b[0m: name 'track_ids' is not defined"
     ]
    }
   ],
   "source": [
    "track_ids.head()"
   ]
  },
  {
   "cell_type": "markdown",
   "id": "b6a1fa79",
   "metadata": {},
   "source": [
    "### CONNECT TO API & QUERY RESULTS"
   ]
  },
  {
   "cell_type": "code",
   "execution_count": 10,
   "id": "af9d70a9",
   "metadata": {},
   "outputs": [],
   "source": [
    "import requests\n",
    "import csv\n",
    "\n",
    "dnc_ls, energy_ls, loud_ls, live_ls, tempo_ls = [], [], [], [], []\n",
    "# Spotify API endpoint for Tame Impala\n",
    "for idx in range(len(track_ids)):\n",
    "\n",
    "    url = f'https://api.spotify.com/v1/audio-features/{track_ids[idx]}'\n",
    "\n",
    "    # Spotify authentication token\n",
    "    token = f'Bearer  {get_token()}'\n",
    "\n",
    "    headers = {'Authorization': token}\n",
    "    response = requests.get(url, headers=headers)\n",
    "    if response.status_code == 200:\n",
    "        data_dict = response.json()\n",
    "        dnc_ls.append(data_dict['danceability'])\n",
    "        energy_ls.append(data_dict['energy'])\n",
    "        loud_ls.append(data_dict['loudness'])\n",
    "        live_ls.append(data_dict['liveness'])\n",
    "        tempo_ls.append(data_dict['tempo'])                                 "
   ]
  },
  {
   "cell_type": "code",
   "execution_count": 11,
   "id": "4128a33b",
   "metadata": {},
   "outputs": [],
   "source": [
    "# Write data to CSV file\n",
    "with open('top100.csv', 'w', newline='') as csvfile:\n",
    "    writer = csv.writer(csvfile)\n",
    "    writer.writerow(['Artist', 'Song', 'Danceability', 'energy', 'loudness', 'liveness', 'tempo'])\n",
    "    for idx in range(len(top100)):        \n",
    "        writer.writerow([artists_ls[idx], top100[idx], dnc_ls[idx], energy_ls[idx], \n",
    "                         loud_ls[idx],live_ls[idx], tempo_ls[idx]])"
   ]
  },
  {
   "cell_type": "code",
   "execution_count": 13,
   "id": "3964dba1",
   "metadata": {},
   "outputs": [
    {
     "data": {
      "text/html": [
       "<div>\n",
       "<style scoped>\n",
       "    .dataframe tbody tr th:only-of-type {\n",
       "        vertical-align: middle;\n",
       "    }\n",
       "\n",
       "    .dataframe tbody tr th {\n",
       "        vertical-align: top;\n",
       "    }\n",
       "\n",
       "    .dataframe thead th {\n",
       "        text-align: right;\n",
       "    }\n",
       "</style>\n",
       "<table border=\"1\" class=\"dataframe\">\n",
       "  <thead>\n",
       "    <tr style=\"text-align: right;\">\n",
       "      <th></th>\n",
       "      <th>Artist</th>\n",
       "      <th>Song</th>\n",
       "      <th>Danceability</th>\n",
       "      <th>Energy</th>\n",
       "      <th>Loudness</th>\n",
       "      <th>Livenss</th>\n",
       "      <th>Tempo</th>\n",
       "    </tr>\n",
       "  </thead>\n",
       "  <tbody>\n",
       "    <tr>\n",
       "      <th>0</th>\n",
       "      <td>Morgan Wallen</td>\n",
       "      <td>Last Night</td>\n",
       "      <td>0.517</td>\n",
       "      <td>0.675</td>\n",
       "      <td>-5.382</td>\n",
       "      <td>0.1510</td>\n",
       "      <td>203.853</td>\n",
       "    </tr>\n",
       "    <tr>\n",
       "      <th>1</th>\n",
       "      <td>SZA</td>\n",
       "      <td>Kill Bill</td>\n",
       "      <td>0.644</td>\n",
       "      <td>0.735</td>\n",
       "      <td>-5.747</td>\n",
       "      <td>0.1610</td>\n",
       "      <td>88.980</td>\n",
       "    </tr>\n",
       "    <tr>\n",
       "      <th>2</th>\n",
       "      <td>Miley Cyrus</td>\n",
       "      <td>Flowers</td>\n",
       "      <td>0.707</td>\n",
       "      <td>0.681</td>\n",
       "      <td>-4.325</td>\n",
       "      <td>0.0322</td>\n",
       "      <td>117.999</td>\n",
       "    </tr>\n",
       "    <tr>\n",
       "      <th>3</th>\n",
       "      <td>Eslabon Armado X Peso Pluma</td>\n",
       "      <td>Ella Baila Sola</td>\n",
       "      <td>0.668</td>\n",
       "      <td>0.758</td>\n",
       "      <td>-5.176</td>\n",
       "      <td>0.0837</td>\n",
       "      <td>147.989</td>\n",
       "    </tr>\n",
       "    <tr>\n",
       "      <th>4</th>\n",
       "      <td>Rema &amp; Selena Gomez</td>\n",
       "      <td>Calm Down</td>\n",
       "      <td>0.801</td>\n",
       "      <td>0.806</td>\n",
       "      <td>-5.206</td>\n",
       "      <td>0.1140</td>\n",
       "      <td>106.999</td>\n",
       "    </tr>\n",
       "  </tbody>\n",
       "</table>\n",
       "</div>"
      ],
      "text/plain": [
       "                        Artist             Song  Danceability  Energy  \\\n",
       "0                Morgan Wallen       Last Night         0.517   0.675   \n",
       "1                          SZA        Kill Bill         0.644   0.735   \n",
       "2                  Miley Cyrus          Flowers         0.707   0.681   \n",
       "3  Eslabon Armado X Peso Pluma  Ella Baila Sola         0.668   0.758   \n",
       "4          Rema & Selena Gomez        Calm Down         0.801   0.806   \n",
       "\n",
       "   Loudness  Livenss    Tempo  \n",
       "0    -5.382   0.1510  203.853  \n",
       "1    -5.747   0.1610   88.980  \n",
       "2    -4.325   0.0322  117.999  \n",
       "3    -5.176   0.0837  147.989  \n",
       "4    -5.206   0.1140  106.999  "
      ]
     },
     "execution_count": 13,
     "metadata": {},
     "output_type": "execute_result"
    }
   ],
   "source": [
    "import pandas as pd\n",
    "songs_df = pd.DataFrame({'Artist': artists_ls, 'Song': top100, 'Danceability': dnc_ls,\n",
    "                        'Energy': energy_ls, 'Loudness': loud_ls, 'Livenss': live_ls, 'Tempo': tempo_ls})\n",
    "\n",
    "songs_df.head(5)"
   ]
  },
  {
   "cell_type": "markdown",
   "id": "c9292a06",
   "metadata": {},
   "source": [
    "## convert to csv"
   ]
  },
  {
   "cell_type": "code",
   "execution_count": 14,
   "id": "03db5a8c",
   "metadata": {},
   "outputs": [
    {
     "name": "stdout",
     "output_type": "stream",
     "text": [
      "CSV file saved successfully!\n"
     ]
    }
   ],
   "source": [
    "# save DataFrame as CSV file\n",
    "songs_df.to_csv('songs_data.csv', index=False)\n",
    "print(\"CSV file saved successfully!\")"
   ]
  }
 ],
 "metadata": {
  "kernelspec": {
   "display_name": "Python 3 (ipykernel)",
   "language": "python",
   "name": "python3"
  },
  "language_info": {
   "codemirror_mode": {
    "name": "ipython",
    "version": 3
   },
   "file_extension": ".py",
   "mimetype": "text/x-python",
   "name": "python",
   "nbconvert_exporter": "python",
   "pygments_lexer": "ipython3",
   "version": "3.9.7"
  }
 },
 "nbformat": 4,
 "nbformat_minor": 5
}
